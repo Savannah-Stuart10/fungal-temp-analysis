{
  "nbformat": 4,
  "nbformat_minor": 0,
  "metadata": {
    "colab": {
      "provenance": [],
      "authorship_tag": "ABX9TyM0DNkPy4ResTm8aEyTnfdD"
    },
    "kernelspec": {
      "name": "python3",
      "display_name": "Python 3"
    },
    "language_info": {
      "name": "python"
    }
  },
  "cells": [
    {
      "cell_type": "code",
      "execution_count": null,
      "metadata": {
        "id": "ip4G7o5crjwo"
      },
      "outputs": [],
      "source": [
        "# columns needed\n",
        "# remove rows that aren't fungi ()\n",
        "# remove those without temp.\n",
        "# name, assembly, temp"
      ]
    }
  ]
}